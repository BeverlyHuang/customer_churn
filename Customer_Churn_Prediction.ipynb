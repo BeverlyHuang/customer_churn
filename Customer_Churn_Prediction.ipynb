{
  "nbformat": 4,
  "nbformat_minor": 0,
  "metadata": {
    "colab": {
      "name": "Customer_Churn_Prediction.ipynb",
      "version": "0.3.2",
      "provenance": [],
      "collapsed_sections": [],
      "include_colab_link": true
    },
    "kernelspec": {
      "name": "python3",
      "display_name": "Python 3"
    }
  },
  "cells": [
    {
      "cell_type": "markdown",
      "metadata": {
        "id": "view-in-github",
        "colab_type": "text"
      },
      "source": [
        "<a href=\"https://colab.research.google.com/github/BeverlyHuang/customer_churn/blob/master/Customer_Churn_Prediction.ipynb\" target=\"_parent\"><img src=\"https://colab.research.google.com/assets/colab-badge.svg\" alt=\"Open In Colab\"/></a>"
      ]
    },
    {
      "cell_type": "markdown",
      "metadata": {
        "id": "kcv2RiiCgoo4",
        "colab_type": "text"
      },
      "source": [
        "#Customer Churn Prediction"
      ]
    },
    {
      "cell_type": "markdown",
      "metadata": {
        "id": "Eaw16wXY-ucG",
        "colab_type": "text"
      },
      "source": [
        "##Framework\n",
        "\n",
        "![](https://raw.githubusercontent.com/BeverlyHuang/heart_disease/master/ds_process_model.png)"
      ]
    },
    {
      "cell_type": "markdown",
      "metadata": {
        "id": "kJpLCrd1_9H8",
        "colab_type": "text"
      },
      "source": [
        "#Business Understanding"
      ]
    },
    {
      "cell_type": "markdown",
      "metadata": {
        "id": "MKBCBGOUABOQ",
        "colab_type": "text"
      },
      "source": [
        "* Predicting customer churn based on available communication records\n",
        "* Enabling the company to take actions to retain customers"
      ]
    },
    {
      "cell_type": "markdown",
      "metadata": {
        "id": "5lq6wD83ALKI",
        "colab_type": "text"
      },
      "source": [
        "#Data Understanding"
      ]
    },
    {
      "cell_type": "markdown",
      "metadata": {
        "id": "J6aYmRPGAWeU",
        "colab_type": "text"
      },
      "source": [
        "* Data Sources: https://www.kaggle.com/c/customer-churn-prediction/data\n",
        "* Features: Number of messages, calls, total minutes, charges, etc."
      ]
    },
    {
      "cell_type": "markdown",
      "metadata": {
        "colab_type": "text",
        "id": "rGrMIRaVTYEy"
      },
      "source": [
        "#Data Preparation"
      ]
    },
    {
      "cell_type": "markdown",
      "metadata": {
        "id": "5j58M_EUgwdR",
        "colab_type": "text"
      },
      "source": [
        "##Ingestion"
      ]
    },
    {
      "cell_type": "markdown",
      "metadata": {
        "id": "Y2K4BM0ag0gl",
        "colab_type": "text"
      },
      "source": [
        "###Import Packages"
      ]
    },
    {
      "cell_type": "code",
      "metadata": {
        "id": "U_5Uz-8iHRns",
        "colab_type": "code",
        "colab": {}
      },
      "source": [
        "import numpy as np\n",
        "import pandas as pd\n",
        "import seaborn as sns\n",
        "import matplotlib.pyplot as plt\n",
        "%matplotlib inline\n",
        "\n",
        "from sklearn.linear_model import LogisticRegression\n",
        "from sklearn.svm import SVC\n",
        "from sklearn.ensemble import RandomForestClassifier\n",
        "\n",
        "from sklearn import model_selection\n",
        "from sklearn.model_selection import train_test_split, GridSearchCV, RandomizedSearchCV\n",
        "from yellowbrick.classifier import ConfusionMatrix\n",
        "from sklearn.metrics import classification_report\n",
        "from yellowbrick.classifier import ConfusionMatrix, ROCAUC\n",
        "\n",
        "import warnings\n",
        "warnings.filterwarnings(\"ignore\")"
      ],
      "execution_count": 0,
      "outputs": []
    },
    {
      "cell_type": "markdown",
      "metadata": {
        "id": "3rbKwR4pg3Rl",
        "colab_type": "text"
      },
      "source": [
        "###Load Data"
      ]
    },
    {
      "cell_type": "code",
      "metadata": {
        "id": "SjXkyUKaRQ14",
        "colab_type": "code",
        "outputId": "54e46369-d512-4305-f2a1-b4b412ba0cc4",
        "colab": {
          "base_uri": "https://localhost:8080/",
          "height": 306
        }
      },
      "source": [
        "df = pd.read_csv(\"https://raw.githubusercontent.com/BeverlyHuang/customer_churn/master/churn_train.txt\", delimiter=',')\n",
        "df.head()"
      ],
      "execution_count": 0,
      "outputs": [
        {
          "output_type": "execute_result",
          "data": {
            "text/html": [
              "<div>\n",
              "<style scoped>\n",
              "    .dataframe tbody tr th:only-of-type {\n",
              "        vertical-align: middle;\n",
              "    }\n",
              "\n",
              "    .dataframe tbody tr th {\n",
              "        vertical-align: top;\n",
              "    }\n",
              "\n",
              "    .dataframe thead th {\n",
              "        text-align: right;\n",
              "    }\n",
              "</style>\n",
              "<table border=\"1\" class=\"dataframe\">\n",
              "  <thead>\n",
              "    <tr style=\"text-align: right;\">\n",
              "      <th></th>\n",
              "      <th>st</th>\n",
              "      <th>acclen</th>\n",
              "      <th>arcode</th>\n",
              "      <th>phnum</th>\n",
              "      <th>intplan</th>\n",
              "      <th>voice</th>\n",
              "      <th>nummailmes</th>\n",
              "      <th>tdmin</th>\n",
              "      <th>tdcal</th>\n",
              "      <th>tdchar</th>\n",
              "      <th>temin</th>\n",
              "      <th>tecal</th>\n",
              "      <th>tecahr</th>\n",
              "      <th>tnmin</th>\n",
              "      <th>tn cal</th>\n",
              "      <th>tnchar</th>\n",
              "      <th>timin</th>\n",
              "      <th>tical</th>\n",
              "      <th>tichar ncsc</th>\n",
              "      <th>label</th>\n",
              "    </tr>\n",
              "  </thead>\n",
              "  <tbody>\n",
              "    <tr>\n",
              "      <th>KS</th>\n",
              "      <td>128</td>\n",
              "      <td>415</td>\n",
              "      <td>382-4657</td>\n",
              "      <td>no</td>\n",
              "      <td>yes</td>\n",
              "      <td>25</td>\n",
              "      <td>265.1</td>\n",
              "      <td>110</td>\n",
              "      <td>45.07</td>\n",
              "      <td>197.4</td>\n",
              "      <td>99</td>\n",
              "      <td>16.78</td>\n",
              "      <td>244.7</td>\n",
              "      <td>91</td>\n",
              "      <td>11.01</td>\n",
              "      <td>10.0</td>\n",
              "      <td>3</td>\n",
              "      <td>2.70</td>\n",
              "      <td>1</td>\n",
              "      <td>False.</td>\n",
              "    </tr>\n",
              "    <tr>\n",
              "      <th>OH</th>\n",
              "      <td>107</td>\n",
              "      <td>415</td>\n",
              "      <td>371-7191</td>\n",
              "      <td>no</td>\n",
              "      <td>yes</td>\n",
              "      <td>26</td>\n",
              "      <td>161.6</td>\n",
              "      <td>123</td>\n",
              "      <td>27.47</td>\n",
              "      <td>195.5</td>\n",
              "      <td>103</td>\n",
              "      <td>16.62</td>\n",
              "      <td>254.4</td>\n",
              "      <td>103</td>\n",
              "      <td>11.45</td>\n",
              "      <td>13.7</td>\n",
              "      <td>3</td>\n",
              "      <td>3.70</td>\n",
              "      <td>1</td>\n",
              "      <td>False.</td>\n",
              "    </tr>\n",
              "    <tr>\n",
              "      <th>NJ</th>\n",
              "      <td>137</td>\n",
              "      <td>415</td>\n",
              "      <td>358-1921</td>\n",
              "      <td>no</td>\n",
              "      <td>no</td>\n",
              "      <td>0</td>\n",
              "      <td>243.4</td>\n",
              "      <td>114</td>\n",
              "      <td>41.38</td>\n",
              "      <td>121.2</td>\n",
              "      <td>110</td>\n",
              "      <td>10.30</td>\n",
              "      <td>162.6</td>\n",
              "      <td>104</td>\n",
              "      <td>7.32</td>\n",
              "      <td>12.2</td>\n",
              "      <td>5</td>\n",
              "      <td>3.29</td>\n",
              "      <td>0</td>\n",
              "      <td>False.</td>\n",
              "    </tr>\n",
              "    <tr>\n",
              "      <th>OH</th>\n",
              "      <td>84</td>\n",
              "      <td>408</td>\n",
              "      <td>375-9999</td>\n",
              "      <td>yes</td>\n",
              "      <td>no</td>\n",
              "      <td>0</td>\n",
              "      <td>299.4</td>\n",
              "      <td>71</td>\n",
              "      <td>50.90</td>\n",
              "      <td>61.9</td>\n",
              "      <td>88</td>\n",
              "      <td>5.26</td>\n",
              "      <td>196.9</td>\n",
              "      <td>89</td>\n",
              "      <td>8.86</td>\n",
              "      <td>6.6</td>\n",
              "      <td>7</td>\n",
              "      <td>1.78</td>\n",
              "      <td>2</td>\n",
              "      <td>False.</td>\n",
              "    </tr>\n",
              "    <tr>\n",
              "      <th>OK</th>\n",
              "      <td>75</td>\n",
              "      <td>415</td>\n",
              "      <td>330-6626</td>\n",
              "      <td>yes</td>\n",
              "      <td>no</td>\n",
              "      <td>0</td>\n",
              "      <td>166.7</td>\n",
              "      <td>113</td>\n",
              "      <td>28.34</td>\n",
              "      <td>148.3</td>\n",
              "      <td>122</td>\n",
              "      <td>12.61</td>\n",
              "      <td>186.9</td>\n",
              "      <td>121</td>\n",
              "      <td>8.41</td>\n",
              "      <td>10.1</td>\n",
              "      <td>3</td>\n",
              "      <td>2.73</td>\n",
              "      <td>3</td>\n",
              "      <td>False.</td>\n",
              "    </tr>\n",
              "  </tbody>\n",
              "</table>\n",
              "</div>"
            ],
            "text/plain": [
              "     st   acclen     arcode  phnum  intplan   voice  nummailmes   tdmin  \\\n",
              "KS  128      415   382-4657     no      yes      25       265.1     110   \n",
              "OH  107      415   371-7191     no      yes      26       161.6     123   \n",
              "NJ  137      415   358-1921     no       no       0       243.4     114   \n",
              "OH   84      408   375-9999    yes       no       0       299.4      71   \n",
              "OK   75      415   330-6626    yes       no       0       166.7     113   \n",
              "\n",
              "     tdcal   tdchar   temin   tecal   tecahr   tnmin   tn cal   tnchar  \\\n",
              "KS   45.07    197.4      99   16.78    244.7      91    11.01     10.0   \n",
              "OH   27.47    195.5     103   16.62    254.4     103    11.45     13.7   \n",
              "NJ   41.38    121.2     110   10.30    162.6     104     7.32     12.2   \n",
              "OH   50.90     61.9      88    5.26    196.9      89     8.86      6.6   \n",
              "OK   28.34    148.3     122   12.61    186.9     121     8.41     10.1   \n",
              "\n",
              "     timin   tical   tichar ncsc    label  \n",
              "KS       3    2.70             1   False.  \n",
              "OH       3    3.70             1   False.  \n",
              "NJ       5    3.29             0   False.  \n",
              "OH       7    1.78             2   False.  \n",
              "OK       3    2.73             3   False.  "
            ]
          },
          "metadata": {
            "tags": []
          },
          "execution_count": 13
        }
      ]
    },
    {
      "cell_type": "code",
      "metadata": {
        "id": "gfB4v3Qf32RZ",
        "colab_type": "code",
        "outputId": "764f2caf-6224-4276-ff27-57dedc66e6cf",
        "colab": {
          "base_uri": "https://localhost:8080/",
          "height": 357
        }
      },
      "source": [
        "list(df.columns.values)"
      ],
      "execution_count": 0,
      "outputs": [
        {
          "output_type": "execute_result",
          "data": {
            "text/plain": [
              "['st',\n",
              " ' acclen',\n",
              " ' arcode',\n",
              " ' phnum',\n",
              " ' intplan',\n",
              " ' voice',\n",
              " 'nummailmes',\n",
              " ' tdmin',\n",
              " ' tdcal',\n",
              " ' tdchar',\n",
              " ' temin',\n",
              " ' tecal',\n",
              " ' tecahr',\n",
              " ' tnmin',\n",
              " ' tn cal',\n",
              " ' tnchar',\n",
              " ' timin',\n",
              " ' tical',\n",
              " ' tichar ncsc',\n",
              " ' label']"
            ]
          },
          "metadata": {
            "tags": []
          },
          "execution_count": 58
        }
      ]
    },
    {
      "cell_type": "markdown",
      "metadata": {
        "id": "kwX7G7TnWFQI",
        "colab_type": "text"
      },
      "source": [
        "###Clean Data"
      ]
    },
    {
      "cell_type": "markdown",
      "metadata": {
        "id": "VcoxQLtP5XcE",
        "colab_type": "text"
      },
      "source": [
        "#### *Variables Needs*\n",
        "\n",
        "number vmail messages: continuous.\n",
        "\n",
        "total day minutes: continuous.\n",
        "\n",
        "total day calls: continuous.\n",
        "\n",
        "total day charge: continuous.\n",
        "\n",
        "total eve minutes: continuous.\n",
        "\n",
        "total eve calls: continuous.\n",
        "\n",
        "total eve charge: continuous.\n",
        "\n",
        "total night minutes: continuous.\n",
        "\n",
        "total night calls: continuous.\n",
        "\n",
        "total night charge: continuous.\n",
        "\n",
        "total intl minutes: continuous.\n",
        "\n",
        "total intl calls: continuous.\n",
        "\n",
        "total intl charge: continuous.\n",
        "\n",
        "number customer service calls: continuous.\n",
        "\n",
        "label: True/False"
      ]
    },
    {
      "cell_type": "code",
      "metadata": {
        "id": "8Yzu_Zv87RfA",
        "colab_type": "code",
        "outputId": "320cf5ec-de98-4d1b-df8a-a02fd84f3553",
        "colab": {
          "base_uri": "https://localhost:8080/",
          "height": 204
        }
      },
      "source": [
        "df = df.drop(['st',' acclen',' arcode',' phnum',' intplan'], axis=1)\n",
        "df[' label'] = df[' label'].apply(lambda x: 1 if x==\" True.\" else 0)\n",
        "df.head()"
      ],
      "execution_count": 0,
      "outputs": [
        {
          "output_type": "execute_result",
          "data": {
            "text/html": [
              "<div>\n",
              "<style scoped>\n",
              "    .dataframe tbody tr th:only-of-type {\n",
              "        vertical-align: middle;\n",
              "    }\n",
              "\n",
              "    .dataframe tbody tr th {\n",
              "        vertical-align: top;\n",
              "    }\n",
              "\n",
              "    .dataframe thead th {\n",
              "        text-align: right;\n",
              "    }\n",
              "</style>\n",
              "<table border=\"1\" class=\"dataframe\">\n",
              "  <thead>\n",
              "    <tr style=\"text-align: right;\">\n",
              "      <th></th>\n",
              "      <th>voice</th>\n",
              "      <th>nummailmes</th>\n",
              "      <th>tdmin</th>\n",
              "      <th>tdcal</th>\n",
              "      <th>tdchar</th>\n",
              "      <th>temin</th>\n",
              "      <th>tecal</th>\n",
              "      <th>tecahr</th>\n",
              "      <th>tnmin</th>\n",
              "      <th>tn cal</th>\n",
              "      <th>tnchar</th>\n",
              "      <th>timin</th>\n",
              "      <th>tical</th>\n",
              "      <th>tichar ncsc</th>\n",
              "      <th>label</th>\n",
              "    </tr>\n",
              "  </thead>\n",
              "  <tbody>\n",
              "    <tr>\n",
              "      <th>KS</th>\n",
              "      <td>25</td>\n",
              "      <td>265.1</td>\n",
              "      <td>110</td>\n",
              "      <td>45.07</td>\n",
              "      <td>197.4</td>\n",
              "      <td>99</td>\n",
              "      <td>16.78</td>\n",
              "      <td>244.7</td>\n",
              "      <td>91</td>\n",
              "      <td>11.01</td>\n",
              "      <td>10.0</td>\n",
              "      <td>3</td>\n",
              "      <td>2.70</td>\n",
              "      <td>1</td>\n",
              "      <td>0</td>\n",
              "    </tr>\n",
              "    <tr>\n",
              "      <th>OH</th>\n",
              "      <td>26</td>\n",
              "      <td>161.6</td>\n",
              "      <td>123</td>\n",
              "      <td>27.47</td>\n",
              "      <td>195.5</td>\n",
              "      <td>103</td>\n",
              "      <td>16.62</td>\n",
              "      <td>254.4</td>\n",
              "      <td>103</td>\n",
              "      <td>11.45</td>\n",
              "      <td>13.7</td>\n",
              "      <td>3</td>\n",
              "      <td>3.70</td>\n",
              "      <td>1</td>\n",
              "      <td>0</td>\n",
              "    </tr>\n",
              "    <tr>\n",
              "      <th>NJ</th>\n",
              "      <td>0</td>\n",
              "      <td>243.4</td>\n",
              "      <td>114</td>\n",
              "      <td>41.38</td>\n",
              "      <td>121.2</td>\n",
              "      <td>110</td>\n",
              "      <td>10.30</td>\n",
              "      <td>162.6</td>\n",
              "      <td>104</td>\n",
              "      <td>7.32</td>\n",
              "      <td>12.2</td>\n",
              "      <td>5</td>\n",
              "      <td>3.29</td>\n",
              "      <td>0</td>\n",
              "      <td>0</td>\n",
              "    </tr>\n",
              "    <tr>\n",
              "      <th>OH</th>\n",
              "      <td>0</td>\n",
              "      <td>299.4</td>\n",
              "      <td>71</td>\n",
              "      <td>50.90</td>\n",
              "      <td>61.9</td>\n",
              "      <td>88</td>\n",
              "      <td>5.26</td>\n",
              "      <td>196.9</td>\n",
              "      <td>89</td>\n",
              "      <td>8.86</td>\n",
              "      <td>6.6</td>\n",
              "      <td>7</td>\n",
              "      <td>1.78</td>\n",
              "      <td>2</td>\n",
              "      <td>0</td>\n",
              "    </tr>\n",
              "    <tr>\n",
              "      <th>OK</th>\n",
              "      <td>0</td>\n",
              "      <td>166.7</td>\n",
              "      <td>113</td>\n",
              "      <td>28.34</td>\n",
              "      <td>148.3</td>\n",
              "      <td>122</td>\n",
              "      <td>12.61</td>\n",
              "      <td>186.9</td>\n",
              "      <td>121</td>\n",
              "      <td>8.41</td>\n",
              "      <td>10.1</td>\n",
              "      <td>3</td>\n",
              "      <td>2.73</td>\n",
              "      <td>3</td>\n",
              "      <td>0</td>\n",
              "    </tr>\n",
              "  </tbody>\n",
              "</table>\n",
              "</div>"
            ],
            "text/plain": [
              "     voice  nummailmes   tdmin   tdcal   tdchar   temin   tecal   tecahr  \\\n",
              "KS      25       265.1     110   45.07    197.4      99   16.78    244.7   \n",
              "OH      26       161.6     123   27.47    195.5     103   16.62    254.4   \n",
              "NJ       0       243.4     114   41.38    121.2     110   10.30    162.6   \n",
              "OH       0       299.4      71   50.90     61.9      88    5.26    196.9   \n",
              "OK       0       166.7     113   28.34    148.3     122   12.61    186.9   \n",
              "\n",
              "     tnmin   tn cal   tnchar   timin   tical   tichar ncsc   label  \n",
              "KS      91    11.01     10.0       3    2.70             1       0  \n",
              "OH     103    11.45     13.7       3    3.70             1       0  \n",
              "NJ     104     7.32     12.2       5    3.29             0       0  \n",
              "OH      89     8.86      6.6       7    1.78             2       0  \n",
              "OK     121     8.41     10.1       3    2.73             3       0  "
            ]
          },
          "metadata": {
            "tags": []
          },
          "execution_count": 14
        }
      ]
    },
    {
      "cell_type": "markdown",
      "metadata": {
        "id": "V5bi7fiPai3Y",
        "colab_type": "text"
      },
      "source": [
        "#Modeling & Evaluation"
      ]
    },
    {
      "cell_type": "markdown",
      "metadata": {
        "id": "mECb7ntoapew",
        "colab_type": "text"
      },
      "source": [
        "###Seperate features and target"
      ]
    },
    {
      "cell_type": "code",
      "metadata": {
        "id": "U3CrnrzjaoO_",
        "colab_type": "code",
        "colab": {}
      },
      "source": [
        "X=df.drop([' label'], axis=1)\n",
        "y=df[' label']"
      ],
      "execution_count": 0,
      "outputs": []
    },
    {
      "cell_type": "markdown",
      "metadata": {
        "id": "I6Ji-tJya1jG",
        "colab_type": "text"
      },
      "source": [
        "###Train/Test split"
      ]
    },
    {
      "cell_type": "code",
      "metadata": {
        "id": "-j7RdmBfa5oL",
        "colab_type": "code",
        "colab": {}
      },
      "source": [
        "X_train, X_test, y_train, y_test = train_test_split(X, y, test_size=0.3, random_state=100, stratify=y)"
      ],
      "execution_count": 0,
      "outputs": []
    },
    {
      "cell_type": "markdown",
      "metadata": {
        "id": "mCG6WaDG_G6_",
        "colab_type": "text"
      },
      "source": [
        "##Model 1: Logistics Regression"
      ]
    },
    {
      "cell_type": "markdown",
      "metadata": {
        "id": "n-wv_e0BhFpr",
        "colab_type": "text"
      },
      "source": [
        "###Default model result"
      ]
    },
    {
      "cell_type": "code",
      "metadata": {
        "id": "N7PkQG7uYh57",
        "colab_type": "code",
        "outputId": "8aa28e90-a412-4097-deb9-682f9f5a5e9c",
        "colab": {
          "base_uri": "https://localhost:8080/",
          "height": 34
        }
      },
      "source": [
        "logreg = LogisticRegression()\n",
        "logreg.fit(X_train,y_train)\n",
        "y_pred = logreg.predict(X_test)\n",
        "logreg.score(X_test,y_test)"
      ],
      "execution_count": 0,
      "outputs": [
        {
          "output_type": "execute_result",
          "data": {
            "text/plain": [
              "0.857"
            ]
          },
          "metadata": {
            "tags": []
          },
          "execution_count": 17
        }
      ]
    },
    {
      "cell_type": "markdown",
      "metadata": {
        "id": "ODR8za5R_99J",
        "colab_type": "text"
      },
      "source": [
        "### Set up hyperparameter grid"
      ]
    },
    {
      "cell_type": "code",
      "metadata": {
        "id": "Cj4OU7Mp1o3q",
        "colab_type": "code",
        "colab": {}
      },
      "source": [
        "c_space = np.logspace(-5,8,15)\n",
        "param_grid = {'C': c_space}"
      ],
      "execution_count": 0,
      "outputs": []
    },
    {
      "cell_type": "markdown",
      "metadata": {
        "id": "_5083X28ASww",
        "colab_type": "text"
      },
      "source": [
        "### GridSearch for best parameters"
      ]
    },
    {
      "cell_type": "code",
      "metadata": {
        "id": "rMCA1-2v0oub",
        "colab_type": "code",
        "outputId": "ef7a808d-18eb-479b-fce8-be2587beb931",
        "colab": {
          "base_uri": "https://localhost:8080/",
          "height": 34
        }
      },
      "source": [
        "logreg = LogisticRegression()\n",
        "logreg_cv = GridSearchCV(logreg, param_grid, cv=10)\n",
        "logreg_cv.fit(X_train,y_train)\n",
        "logreg_cv.best_params_"
      ],
      "execution_count": 0,
      "outputs": [
        {
          "output_type": "execute_result",
          "data": {
            "text/plain": [
              "{'C': 2275.845926074791}"
            ]
          },
          "metadata": {
            "tags": []
          },
          "execution_count": 19
        }
      ]
    },
    {
      "cell_type": "markdown",
      "metadata": {
        "id": "GnxH13g7AgkQ",
        "colab_type": "text"
      },
      "source": [
        "###Use the best parameters to predict"
      ]
    },
    {
      "cell_type": "code",
      "metadata": {
        "id": "50rBJsow3OyG",
        "colab_type": "code",
        "outputId": "ba9003fb-1991-4af6-f495-44304d67891b",
        "colab": {
          "base_uri": "https://localhost:8080/",
          "height": 34
        }
      },
      "source": [
        "y_pred = logreg_cv.predict(X_test)\n",
        "logreg_cv.score(X_test,y_test)"
      ],
      "execution_count": 0,
      "outputs": [
        {
          "output_type": "execute_result",
          "data": {
            "text/plain": [
              "0.86"
            ]
          },
          "metadata": {
            "tags": []
          },
          "execution_count": 20
        }
      ]
    },
    {
      "cell_type": "markdown",
      "metadata": {
        "id": "t5XIXHVqhfgi",
        "colab_type": "text"
      },
      "source": [
        "###Confusion matrix"
      ]
    },
    {
      "cell_type": "code",
      "metadata": {
        "id": "tSghjiH4Xicj",
        "colab_type": "code",
        "outputId": "7361791d-3fda-49a0-d534-4249e50fdf28",
        "colab": {
          "base_uri": "https://localhost:8080/",
          "height": 373
        }
      },
      "source": [
        "cm = ConfusionMatrix(logreg_cv, classes=[0,1])\n",
        "cm.fit(X_train, y_train)\n",
        "cm.score(X_test, y_test)\n",
        "cm.poof()"
      ],
      "execution_count": 0,
      "outputs": [
        {
          "output_type": "display_data",
          "data": {
            "image/png": "[encoded data removed]",
            "text/plain": [
              "<Figure size 576x396 with 1 Axes>"
            ]
          },
          "metadata": {
            "tags": []
          }
        }
      ]
    },
    {
      "cell_type": "markdown",
      "metadata": {
        "colab_type": "text",
        "id": "rrcV637bfRiP"
      },
      "source": [
        "###Classfication report"
      ]
    },
    {
      "cell_type": "code",
      "metadata": {
        "colab_type": "code",
        "outputId": "ad0a3162-2d15-47f2-ef68-b70f31e954e0",
        "id": "sQ-EoZDofRiT",
        "colab": {
          "base_uri": "https://localhost:8080/",
          "height": 170
        }
      },
      "source": [
        "print(classification_report(y_test, y_pred))"
      ],
      "execution_count": 0,
      "outputs": [
        {
          "output_type": "stream",
          "text": [
            "              precision    recall  f1-score   support\n",
            "\n",
            "           0       0.87      0.99      0.92       855\n",
            "           1       0.61      0.10      0.17       145\n",
            "\n",
            "   micro avg       0.86      0.86      0.86      1000\n",
            "   macro avg       0.74      0.54      0.55      1000\n",
            "weighted avg       0.83      0.86      0.81      1000\n",
            "\n"
          ],
          "name": "stdout"
        }
      ]
    },
    {
      "cell_type": "markdown",
      "metadata": {
        "id": "vnbpRAP0hV1T",
        "colab_type": "text"
      },
      "source": [
        "###ROC AUC"
      ]
    },
    {
      "cell_type": "code",
      "metadata": {
        "id": "ObdAp5dkghrz",
        "colab_type": "code",
        "outputId": "0f2ecc71-8b7c-464b-feb2-e75babdeab3e",
        "colab": {
          "base_uri": "https://localhost:8080/",
          "height": 294
        }
      },
      "source": [
        "# Instantiate the visualizer with the classification model\n",
        "visualizer = ROCAUC(logreg_cv)\n",
        "\n",
        "visualizer.fit(X_train, y_train)  # Fit the training data to the visualizer\n",
        "visualizer.score(X_test, y_test)  # Evaluate the model on the test data\n",
        "g = visualizer.poof()             # Draw/show/poof the data"
      ],
      "execution_count": 0,
      "outputs": [
        {
          "output_type": "display_data",
          "data": {
            "image/png": "[encoded data removed]",
            "text/plain": [
              "<Figure size 432x288 with 1 Axes>"
            ]
          },
          "metadata": {
            "tags": []
          }
        }
      ]
    },
    {
      "cell_type": "markdown",
      "metadata": {
        "id": "VSGZo4bHBJ0G",
        "colab_type": "text"
      },
      "source": [
        "###Performance Interpretation "
      ]
    },
    {
      "cell_type": "markdown",
      "metadata": {
        "id": "bOkGOJWiBUF_",
        "colab_type": "text"
      },
      "source": [
        "* Using logistics regression, the best model achieves 86% accuracy.\n",
        "* False positives (type I error) means the customer did not churn while our predicted result indicates that the customer would churn. False negatives (type II error) means the customer churned while our predicted result indicates that the customer would not churn.\n",
        "* In this case, false negatives are more serious because we fail to identify churning customers. So we want to minimize false negatives, i.e. maximize recall (Σ True positive/Σ Condition positive).\n",
        "* Here, recall =  0.1. The model can identify 10% churning customers correctly. This result is very bad."
      ]
    },
    {
      "cell_type": "markdown",
      "metadata": {
        "id": "mW_MIZTlagqq",
        "colab_type": "text"
      },
      "source": [
        "##Model 2: SVM"
      ]
    },
    {
      "cell_type": "markdown",
      "metadata": {
        "id": "bW9En3Kfhxxs",
        "colab_type": "text"
      },
      "source": [
        "###Default model result"
      ]
    },
    {
      "cell_type": "code",
      "metadata": {
        "id": "3i56Cr6RXxvS",
        "colab_type": "code",
        "outputId": "fe5eb13c-69ff-49a5-e3bd-dce3544bee4c",
        "colab": {
          "base_uri": "https://localhost:8080/",
          "height": 34
        }
      },
      "source": [
        "svm = SVC(random_state = 1)\n",
        "svm.fit(X_train, y_train)\n",
        "y_pred = svm.predict(X_test)\n",
        "svm.score(X_test,y_test)"
      ],
      "execution_count": 0,
      "outputs": [
        {
          "output_type": "execute_result",
          "data": {
            "text/plain": [
              "0.855"
            ]
          },
          "metadata": {
            "tags": []
          },
          "execution_count": 23
        }
      ]
    },
    {
      "cell_type": "markdown",
      "metadata": {
        "colab_type": "text",
        "id": "dyoTxsDXbaXu"
      },
      "source": [
        "### Set up hyperparameter grid"
      ]
    },
    {
      "cell_type": "code",
      "metadata": {
        "colab_type": "code",
        "id": "ZNwKZdBlbaXw",
        "colab": {}
      },
      "source": [
        "Cs = [0.001, 0.01, 0.1, 1, 10]\n",
        "gammas = [0.001, 0.01, 0.1, 1]\n",
        "param_grid = {'C': Cs, 'gamma' : gammas}"
      ],
      "execution_count": 0,
      "outputs": []
    },
    {
      "cell_type": "markdown",
      "metadata": {
        "colab_type": "text",
        "id": "_lqIRLlxbaX5"
      },
      "source": [
        "### GridSearch for best parameters"
      ]
    },
    {
      "cell_type": "code",
      "metadata": {
        "colab_type": "code",
        "outputId": "978727be-c953-4cb5-9745-0f18c532e316",
        "id": "ymLxCNFvbaX6",
        "colab": {
          "base_uri": "https://localhost:8080/",
          "height": 34
        }
      },
      "source": [
        "svm = SVC(kernel='rbf')\n",
        "svm_cv = GridSearchCV(svm, param_grid, cv=10)\n",
        "svm_cv.fit(X, y)\n",
        "svm_cv.best_params_"
      ],
      "execution_count": 0,
      "outputs": [
        {
          "output_type": "execute_result",
          "data": {
            "text/plain": [
              "{'C': 1, 'gamma': 0.001}"
            ]
          },
          "metadata": {
            "tags": []
          },
          "execution_count": 25
        }
      ]
    },
    {
      "cell_type": "markdown",
      "metadata": {
        "colab_type": "text",
        "id": "6Q4K1L0ebaX_"
      },
      "source": [
        "###Use the best parameters to predict"
      ]
    },
    {
      "cell_type": "code",
      "metadata": {
        "colab_type": "code",
        "outputId": "8914fc3d-f786-41e3-93e4-88dedc791a4c",
        "id": "wzwgMCC8baYB",
        "colab": {
          "base_uri": "https://localhost:8080/",
          "height": 34
        }
      },
      "source": [
        "y_pred = svm_cv.predict(X_test)\n",
        "svm_cv.score(X_test,y_test)"
      ],
      "execution_count": 0,
      "outputs": [
        {
          "output_type": "execute_result",
          "data": {
            "text/plain": [
              "0.883"
            ]
          },
          "metadata": {
            "tags": []
          },
          "execution_count": 29
        }
      ]
    },
    {
      "cell_type": "markdown",
      "metadata": {
        "id": "Hk2o5moXh_pk",
        "colab_type": "text"
      },
      "source": [
        "###Confusion matrix"
      ]
    },
    {
      "cell_type": "code",
      "metadata": {
        "colab_type": "code",
        "outputId": "c5e46460-69a6-4cf5-8ffb-c63a72843d52",
        "id": "jhYH4P35baYH",
        "colab": {
          "base_uri": "https://localhost:8080/",
          "height": 373
        }
      },
      "source": [
        "cm = ConfusionMatrix(svm_cv, classes=[0,1])\n",
        "cm.fit(X_train, y_train)\n",
        "cm.score(X_test, y_test)\n",
        "cm.poof()"
      ],
      "execution_count": 0,
      "outputs": [
        {
          "output_type": "display_data",
          "data": {
            "image/png": "[encoded data removed]",
            "text/plain": [
              "<Figure size 576x396 with 1 Axes>"
            ]
          },
          "metadata": {
            "tags": []
          }
        }
      ]
    },
    {
      "cell_type": "markdown",
      "metadata": {
        "colab_type": "text",
        "id": "Nk0dBvJXfQpL"
      },
      "source": [
        "###Classfication report"
      ]
    },
    {
      "cell_type": "code",
      "metadata": {
        "colab_type": "code",
        "outputId": "49c16d0e-b582-4c86-c9c8-c697b35d0df1",
        "id": "jHPDRsvJfQpO",
        "colab": {
          "base_uri": "https://localhost:8080/",
          "height": 170
        }
      },
      "source": [
        "print(classification_report(y_test, y_pred))"
      ],
      "execution_count": 0,
      "outputs": [
        {
          "output_type": "stream",
          "text": [
            "              precision    recall  f1-score   support\n",
            "\n",
            "           0       0.88      1.00      0.94       855\n",
            "           1       0.97      0.20      0.33       145\n",
            "\n",
            "   micro avg       0.88      0.88      0.88      1000\n",
            "   macro avg       0.92      0.60      0.63      1000\n",
            "weighted avg       0.89      0.88      0.85      1000\n",
            "\n"
          ],
          "name": "stdout"
        }
      ]
    },
    {
      "cell_type": "code",
      "metadata": {
        "id": "9dPL4VnngdEP",
        "colab_type": "code",
        "outputId": "0d060bad-ac82-46c7-d66c-5fcbb43cc38d",
        "colab": {
          "base_uri": "https://localhost:8080/",
          "height": 376
        }
      },
      "source": [
        "# Instantiate the visualizer with the classification model\n",
        "visualizer = ROCAUC(svm_cv, micro=False, macro=False, per_class=False)\n",
        "\n",
        "visualizer.fit(X_train, y_train)  # Fit the training data to the visualizer\n",
        "visualizer.score(X_test, y_test)  # Evaluate the model on the test data\n",
        "g = visualizer.poof()             # Draw/show/poof the data"
      ],
      "execution_count": 0,
      "outputs": [
        {
          "output_type": "display_data",
          "data": {
            "image/png": "[encoded data removed]",
            "text/plain": [
              "<Figure size 576x396 with 1 Axes>"
            ]
          },
          "metadata": {
            "tags": []
          }
        }
      ]
    },
    {
      "cell_type": "markdown",
      "metadata": {
        "colab_type": "text",
        "id": "1ouAm7MJY_k2"
      },
      "source": [
        "###Performance Interpretation "
      ]
    },
    {
      "cell_type": "markdown",
      "metadata": {
        "colab_type": "text",
        "id": "dL9ffZbcY_k4"
      },
      "source": [
        "* Using SVM, the best model achieves 88.3% accuracy.\n",
        "* Here, recall =  0.2. The model can identify 20% churning customers correctly. This model is better than Logistics Regression, but still very bad."
      ]
    },
    {
      "cell_type": "markdown",
      "metadata": {
        "id": "D2coQvCzA6IQ",
        "colab_type": "text"
      },
      "source": [
        "##Model 3: Random Forest"
      ]
    },
    {
      "cell_type": "markdown",
      "metadata": {
        "id": "DgdhDDGLhzNn",
        "colab_type": "text"
      },
      "source": [
        "###Default model result"
      ]
    },
    {
      "cell_type": "code",
      "metadata": {
        "colab_type": "code",
        "outputId": "4921dc90-e15c-48c7-f884-6bc8b16af2b2",
        "id": "_B9J6EVQefJs",
        "colab": {
          "base_uri": "https://localhost:8080/",
          "height": 34
        }
      },
      "source": [
        "rfc=RandomForestClassifier(random_state=1)\n",
        "rfc.fit(X_train, y_train)\n",
        "rfc.score(X_test,y_test)"
      ],
      "execution_count": 0,
      "outputs": [
        {
          "output_type": "execute_result",
          "data": {
            "text/plain": [
              "0.914"
            ]
          },
          "metadata": {
            "tags": []
          },
          "execution_count": 33
        }
      ]
    },
    {
      "cell_type": "markdown",
      "metadata": {
        "id": "kxFVcYpBA-PD",
        "colab_type": "text"
      },
      "source": [
        "### Set up hyperparameter grid"
      ]
    },
    {
      "cell_type": "code",
      "metadata": {
        "id": "i9r4jMU98YS8",
        "colab_type": "code",
        "colab": {}
      },
      "source": [
        "param_grid = {'n_estimators': [200, 500],\n",
        "    'max_features': ['auto', 'sqrt', 'log2'],\n",
        "    'max_depth' : np.arange(3,10),\n",
        "    'min_samples_leaf': np.arange(2,8),\n",
        "    'criterion' :['gini', 'entropy']}"
      ],
      "execution_count": 0,
      "outputs": []
    },
    {
      "cell_type": "markdown",
      "metadata": {
        "id": "INagAV3LA_0m",
        "colab_type": "text"
      },
      "source": [
        "### GridSearch for best parameters"
      ]
    },
    {
      "cell_type": "code",
      "metadata": {
        "id": "keevdHbJ8Sca",
        "colab_type": "code",
        "outputId": "5f5eacc8-78dc-4558-d5c1-1b2e83245503",
        "colab": {
          "base_uri": "https://localhost:8080/",
          "height": 102
        }
      },
      "source": [
        "rfc=RandomForestClassifier(random_state=1)\n",
        "rfc_cv = RandomizedSearchCV(rfc, param_grid, cv=10)\n",
        "rfc_cv.fit(X_train, y_train)\n",
        "rfc_cv.best_params_"
      ],
      "execution_count": 0,
      "outputs": [
        {
          "output_type": "execute_result",
          "data": {
            "text/plain": [
              "{'criterion': 'gini',\n",
              " 'max_depth': 7,\n",
              " 'max_features': 'log2',\n",
              " 'min_samples_leaf': 2,\n",
              " 'n_estimators': 500}"
            ]
          },
          "metadata": {
            "tags": []
          },
          "execution_count": 35
        }
      ]
    },
    {
      "cell_type": "markdown",
      "metadata": {
        "id": "aF_pNJQPBB1l",
        "colab_type": "text"
      },
      "source": [
        "###Use the best parameters to predict"
      ]
    },
    {
      "cell_type": "code",
      "metadata": {
        "id": "MKYGlBhk9rVe",
        "colab_type": "code",
        "outputId": "968d28d2-90bc-42de-c17d-40d49a94b4aa",
        "colab": {
          "base_uri": "https://localhost:8080/",
          "height": 34
        }
      },
      "source": [
        "y_pred = rfc_cv.predict(X_test)\n",
        "rfc_cv.score(X_test,y_test)"
      ],
      "execution_count": 0,
      "outputs": [
        {
          "output_type": "execute_result",
          "data": {
            "text/plain": [
              "0.922"
            ]
          },
          "metadata": {
            "tags": []
          },
          "execution_count": 36
        }
      ]
    },
    {
      "cell_type": "markdown",
      "metadata": {
        "id": "SdzIbrqD5yQx",
        "colab_type": "text"
      },
      "source": [
        "###Confusion matrix"
      ]
    },
    {
      "cell_type": "code",
      "metadata": {
        "id": "VnLm5-Xr58Fi",
        "colab_type": "code",
        "outputId": "01f44e36-197f-46be-d768-168901ff285c",
        "colab": {
          "base_uri": "https://localhost:8080/",
          "height": 373
        }
      },
      "source": [
        "cm = ConfusionMatrix(rfc_cv, classes=[0,1])\n",
        "cm.fit(X_train, y_train)\n",
        "cm.score(X_test, y_test)\n",
        "cm.poof()"
      ],
      "execution_count": 0,
      "outputs": [
        {
          "output_type": "display_data",
          "data": {
            "image/png": "[encoded data removed]",
            "text/plain": [
              "<Figure size 576x396 with 1 Axes>"
            ]
          },
          "metadata": {
            "tags": []
          }
        }
      ]
    },
    {
      "cell_type": "markdown",
      "metadata": {
        "id": "xVGPM-fkhgrU",
        "colab_type": "text"
      },
      "source": [
        "###Classfication report"
      ]
    },
    {
      "cell_type": "code",
      "metadata": {
        "id": "D7b2F8j6hhkc",
        "colab_type": "code",
        "outputId": "bc47e3c4-3b83-48f6-b936-729a842a50b9",
        "colab": {
          "base_uri": "https://localhost:8080/",
          "height": 170
        }
      },
      "source": [
        "print(classification_report(y_test, y_pred))"
      ],
      "execution_count": 0,
      "outputs": [
        {
          "output_type": "stream",
          "text": [
            "              precision    recall  f1-score   support\n",
            "\n",
            "           0       0.92      0.99      0.95       855\n",
            "           1       0.89      0.51      0.65       145\n",
            "\n",
            "   micro avg       0.92      0.92      0.92      1000\n",
            "   macro avg       0.91      0.75      0.80      1000\n",
            "weighted avg       0.92      0.92      0.91      1000\n",
            "\n"
          ],
          "name": "stdout"
        }
      ]
    },
    {
      "cell_type": "markdown",
      "metadata": {
        "id": "PXAXRttPiD7L",
        "colab_type": "text"
      },
      "source": [
        "###ROC AUC"
      ]
    },
    {
      "cell_type": "code",
      "metadata": {
        "id": "h3krcF-YfpIE",
        "colab_type": "code",
        "outputId": "535e2ac5-7fdb-4e2b-8f95-23987fc26812",
        "colab": {
          "base_uri": "https://localhost:8080/",
          "height": 294
        }
      },
      "source": [
        "# Instantiate the visualizer with the classification model\n",
        "visualizer = ROCAUC(rfc_cv)\n",
        "\n",
        "visualizer.fit(X_train, y_train)  # Fit the training data to the visualizer\n",
        "visualizer.score(X_test, y_test)  # Evaluate the model on the test data\n",
        "g = visualizer.poof()             # Draw/show/poof the data"
      ],
      "execution_count": 0,
      "outputs": [
        {
          "output_type": "display_data",
          "data": {
            "image/png": "[encoded data removed]",
            "text/plain": [
              "<Figure size 432x288 with 1 Axes>"
            ]
          },
          "metadata": {
            "tags": []
          }
        }
      ]
    },
    {
      "cell_type": "markdown",
      "metadata": {
        "colab_type": "text",
        "id": "t9nPLhICbqxQ"
      },
      "source": [
        "###Performance Interpretation "
      ]
    },
    {
      "cell_type": "markdown",
      "metadata": {
        "colab_type": "text",
        "id": "PUlt0TeqbqxR"
      },
      "source": [
        "* Using SVM, the best model achieves 92.2% accuracy.\n",
        "* Here, recall =  0.51. The model can identify 51% churning customers correctly. This model is better than Logistics Regression and SVM, but not much better than random guess."
      ]
    },
    {
      "cell_type": "markdown",
      "metadata": {
        "id": "9ZbyShWLH-mF",
        "colab_type": "text"
      },
      "source": [
        "#Deployment"
      ]
    },
    {
      "cell_type": "markdown",
      "metadata": {
        "id": "X0CL9qxFVGoh",
        "colab_type": "text"
      },
      "source": [
        "###Use Correlation Heatmap to explore key factors"
      ]
    },
    {
      "cell_type": "code",
      "metadata": {
        "id": "NeG9RGR48AEV",
        "colab_type": "code",
        "outputId": "c602a253-170e-45ff-fdfc-93f71929c6d7",
        "colab": {
          "base_uri": "https://localhost:8080/",
          "height": 333
        }
      },
      "source": [
        "corr = df.corr()\n",
        "sns.heatmap(corr, \n",
        "            xticklabels=corr.columns.values,\n",
        "            yticklabels=corr.columns.values, \n",
        "            cmap='YlGnBu')"
      ],
      "execution_count": 0,
      "outputs": [
        {
          "output_type": "execute_result",
          "data": {
            "text/plain": [
              "<matplotlib.axes._subplots.AxesSubplot at 0x7f080d5c3710>"
            ]
          },
          "metadata": {
            "tags": []
          },
          "execution_count": 94
        },
        {
          "output_type": "display_data",
          "data": {
            "image/png": "[encoded data removed]",
            "text/plain": [
              "<Figure size 432x288 with 2 Axes>"
            ]
          },
          "metadata": {
            "tags": []
          }
        }
      ]
    },
    {
      "cell_type": "markdown",
      "metadata": {
        "id": "rFT2c1JFgC95",
        "colab_type": "text"
      },
      "source": [
        "The heatmap shows that nummailmes, tdcal and tichar ncsc are three most important factors."
      ]
    },
    {
      "cell_type": "markdown",
      "metadata": {
        "id": "gbDGV8dlfbt_",
        "colab_type": "text"
      },
      "source": [
        "###Use the best model to identify key factors"
      ]
    },
    {
      "cell_type": "code",
      "metadata": {
        "id": "VkZstV5YfBpc",
        "colab_type": "code",
        "outputId": "92a218bd-c3be-4180-8036-72f298a43aa1",
        "colab": {
          "base_uri": "https://localhost:8080/",
          "height": 255
        }
      },
      "source": [
        "best_model = RandomForestClassifier(criterion='gini', max_depth=7, max_features='log2', min_samples_leaf=2, n_estimators=500, random_state=1)\n",
        "model = best_model.fit(X_train,y_train)\n",
        "list(zip(X,model.feature_importances_))"
      ],
      "execution_count": 0,
      "outputs": [
        {
          "output_type": "execute_result",
          "data": {
            "text/plain": [
              "[(' voice', 0.05200039472756198),\n",
              " ('nummailmes', 0.20103519382155605),\n",
              " (' tdmin', 0.03245782284106871),\n",
              " (' tdcal', 0.18836906253932845),\n",
              " (' tdchar', 0.07933594340417963),\n",
              " (' temin', 0.024756276603721147),\n",
              " (' tecal', 0.0795547529104034),\n",
              " (' tecahr', 0.03290496416826866),\n",
              " (' tnmin', 0.026387752362796797),\n",
              " (' tn cal', 0.033313848365986144),\n",
              " (' tnchar', 0.037104465133636695),\n",
              " (' timin', 0.024423070972282718),\n",
              " (' tical', 0.03633709435459314),\n",
              " (' tichar ncsc', 0.15201935779461637)]"
            ]
          },
          "metadata": {
            "tags": []
          },
          "execution_count": 45
        }
      ]
    },
    {
      "cell_type": "markdown",
      "metadata": {
        "id": "qzmv6FoUgSYK",
        "colab_type": "text"
      },
      "source": [
        "The feature importance from the model also shows that nummailmes, tdcal and tichar ncsc are three most important factors."
      ]
    },
    {
      "cell_type": "markdown",
      "metadata": {
        "id": "wzETKxpUVD2e",
        "colab_type": "text"
      },
      "source": [
        "###Explore these three factors through visualization"
      ]
    },
    {
      "cell_type": "markdown",
      "metadata": {
        "id": "_qCrxOW3OoN5",
        "colab_type": "text"
      },
      "source": [
        "####Number of Email Messages vs Customer Churn"
      ]
    },
    {
      "cell_type": "code",
      "metadata": {
        "id": "OlWwGsN5JZfp",
        "colab_type": "code",
        "outputId": "ab801a2e-5791-4963-bfea-d0f49c0cb8d8",
        "colab": {
          "base_uri": "https://localhost:8080/",
          "height": 204
        }
      },
      "source": [
        "churn=df.loc[:,' label']==1\n",
        "loyal=df.loc[:,' label']==0\n",
        "df[churn].head()"
      ],
      "execution_count": 0,
      "outputs": [
        {
          "output_type": "execute_result",
          "data": {
            "text/html": [
              "<div>\n",
              "<style scoped>\n",
              "    .dataframe tbody tr th:only-of-type {\n",
              "        vertical-align: middle;\n",
              "    }\n",
              "\n",
              "    .dataframe tbody tr th {\n",
              "        vertical-align: top;\n",
              "    }\n",
              "\n",
              "    .dataframe thead th {\n",
              "        text-align: right;\n",
              "    }\n",
              "</style>\n",
              "<table border=\"1\" class=\"dataframe\">\n",
              "  <thead>\n",
              "    <tr style=\"text-align: right;\">\n",
              "      <th></th>\n",
              "      <th>voice</th>\n",
              "      <th>nummailmes</th>\n",
              "      <th>tdmin</th>\n",
              "      <th>tdcal</th>\n",
              "      <th>tdchar</th>\n",
              "      <th>temin</th>\n",
              "      <th>tecal</th>\n",
              "      <th>tecahr</th>\n",
              "      <th>tnmin</th>\n",
              "      <th>tn cal</th>\n",
              "      <th>tnchar</th>\n",
              "      <th>timin</th>\n",
              "      <th>tical</th>\n",
              "      <th>tichar ncsc</th>\n",
              "      <th>label</th>\n",
              "    </tr>\n",
              "  </thead>\n",
              "  <tbody>\n",
              "    <tr>\n",
              "      <th>IN</th>\n",
              "      <td>0</td>\n",
              "      <td>129.1</td>\n",
              "      <td>137</td>\n",
              "      <td>21.95</td>\n",
              "      <td>228.5</td>\n",
              "      <td>83</td>\n",
              "      <td>19.42</td>\n",
              "      <td>208.8</td>\n",
              "      <td>111</td>\n",
              "      <td>9.40</td>\n",
              "      <td>12.7</td>\n",
              "      <td>6</td>\n",
              "      <td>3.43</td>\n",
              "      <td>4</td>\n",
              "      <td>1</td>\n",
              "    </tr>\n",
              "    <tr>\n",
              "      <th>NY</th>\n",
              "      <td>0</td>\n",
              "      <td>332.9</td>\n",
              "      <td>67</td>\n",
              "      <td>56.59</td>\n",
              "      <td>317.8</td>\n",
              "      <td>97</td>\n",
              "      <td>27.01</td>\n",
              "      <td>160.6</td>\n",
              "      <td>128</td>\n",
              "      <td>7.23</td>\n",
              "      <td>5.4</td>\n",
              "      <td>9</td>\n",
              "      <td>1.46</td>\n",
              "      <td>4</td>\n",
              "      <td>1</td>\n",
              "    </tr>\n",
              "    <tr>\n",
              "      <th>CO</th>\n",
              "      <td>0</td>\n",
              "      <td>62.4</td>\n",
              "      <td>89</td>\n",
              "      <td>10.61</td>\n",
              "      <td>169.9</td>\n",
              "      <td>121</td>\n",
              "      <td>14.44</td>\n",
              "      <td>209.6</td>\n",
              "      <td>64</td>\n",
              "      <td>9.43</td>\n",
              "      <td>5.7</td>\n",
              "      <td>6</td>\n",
              "      <td>1.54</td>\n",
              "      <td>5</td>\n",
              "      <td>1</td>\n",
              "    </tr>\n",
              "    <tr>\n",
              "      <th>AZ</th>\n",
              "      <td>0</td>\n",
              "      <td>249.6</td>\n",
              "      <td>118</td>\n",
              "      <td>42.43</td>\n",
              "      <td>252.4</td>\n",
              "      <td>119</td>\n",
              "      <td>21.45</td>\n",
              "      <td>280.2</td>\n",
              "      <td>90</td>\n",
              "      <td>12.61</td>\n",
              "      <td>11.8</td>\n",
              "      <td>3</td>\n",
              "      <td>3.19</td>\n",
              "      <td>1</td>\n",
              "      <td>1</td>\n",
              "    </tr>\n",
              "    <tr>\n",
              "      <th>MD</th>\n",
              "      <td>41</td>\n",
              "      <td>173.1</td>\n",
              "      <td>85</td>\n",
              "      <td>29.43</td>\n",
              "      <td>203.9</td>\n",
              "      <td>107</td>\n",
              "      <td>17.33</td>\n",
              "      <td>122.2</td>\n",
              "      <td>78</td>\n",
              "      <td>5.50</td>\n",
              "      <td>14.6</td>\n",
              "      <td>15</td>\n",
              "      <td>3.94</td>\n",
              "      <td>0</td>\n",
              "      <td>1</td>\n",
              "    </tr>\n",
              "  </tbody>\n",
              "</table>\n",
              "</div>"
            ],
            "text/plain": [
              "     voice  nummailmes   tdmin   tdcal   tdchar   temin   tecal   tecahr  \\\n",
              "IN       0       129.1     137   21.95    228.5      83   19.42    208.8   \n",
              "NY       0       332.9      67   56.59    317.8      97   27.01    160.6   \n",
              "CO       0        62.4      89   10.61    169.9     121   14.44    209.6   \n",
              "AZ       0       249.6     118   42.43    252.4     119   21.45    280.2   \n",
              "MD      41       173.1      85   29.43    203.9     107   17.33    122.2   \n",
              "\n",
              "     tnmin   tn cal   tnchar   timin   tical   tichar ncsc   label  \n",
              "IN     111     9.40     12.7       6    3.43             4       1  \n",
              "NY     128     7.23      5.4       9    1.46             4       1  \n",
              "CO      64     9.43      5.7       6    1.54             5       1  \n",
              "AZ      90    12.61     11.8       3    3.19             1       1  \n",
              "MD      78     5.50     14.6      15    3.94             0       1  "
            ]
          },
          "metadata": {
            "tags": []
          },
          "execution_count": 98
        }
      ]
    },
    {
      "cell_type": "code",
      "metadata": {
        "id": "wsu7XtOBMQSR",
        "colab_type": "code",
        "outputId": "af59ad2d-d063-493d-9444-9b62b7cc57eb",
        "colab": {
          "base_uri": "https://localhost:8080/",
          "height": 370
        }
      },
      "source": [
        "plt.subplots(figsize =(10, 5)) \n",
        "sns.distplot(df[churn]['nummailmes'] , color='red', label='churn')\n",
        "sns.distplot(df[loyal]['nummailmes'] , color='lightgreen', label='loyal')\n",
        "plt.suptitle('Number of Email Messages vs Customer Churn')\n",
        "plt.legend()\n",
        "plt.show()"
      ],
      "execution_count": 0,
      "outputs": [
        {
          "output_type": "display_data",
          "data": {
            "image/png": "[encoded data removed]",
            "text/plain": [
              "<Figure size 720x360 with 1 Axes>"
            ]
          },
          "metadata": {
            "tags": []
          }
        }
      ]
    },
    {
      "cell_type": "markdown",
      "metadata": {
        "id": "wb9kPzKxOrAN",
        "colab_type": "text"
      },
      "source": [
        "#### Total Day Calls vs Customer Churn"
      ]
    },
    {
      "cell_type": "code",
      "metadata": {
        "id": "dR3wrUreH9zL",
        "colab_type": "code",
        "outputId": "e2eb4f87-8c2d-4013-8c7e-011d39fc9145",
        "colab": {
          "base_uri": "https://localhost:8080/",
          "height": 370
        }
      },
      "source": [
        "plt.subplots(figsize =(10, 5)) \n",
        "sns.distplot(df[churn][' tdcal'] , color='red', label='churn')\n",
        "sns.distplot(df[loyal][' tdcal'] , color='lightgreen', label='loyal')\n",
        "plt.suptitle('Total Day Calls vs Customer Churn')\n",
        "plt.legend()\n",
        "plt.show()"
      ],
      "execution_count": 0,
      "outputs": [
        {
          "output_type": "display_data",
          "data": {
            "image/png": "[encoded data removed]",
            "text/plain": [
              "<Figure size 720x360 with 1 Axes>"
            ]
          },
          "metadata": {
            "tags": []
          }
        }
      ]
    },
    {
      "cell_type": "markdown",
      "metadata": {
        "id": "3vVIfSOZOtyi",
        "colab_type": "text"
      },
      "source": [
        "####Total International Charge vs Customer Churn"
      ]
    },
    {
      "cell_type": "code",
      "metadata": {
        "id": "Px3I_b9PKxlZ",
        "colab_type": "code",
        "outputId": "8d038412-96a1-48e2-b750-f4c70a4a362a",
        "colab": {
          "base_uri": "https://localhost:8080/",
          "height": 370
        }
      },
      "source": [
        "plt.subplots(figsize =(10, 5)) \n",
        "sns.distplot(df[churn][' tichar ncsc'] , color='red', label='churn')\n",
        "sns.distplot(df[loyal][' tichar ncsc'] , color='lightgreen', label='loyal')\n",
        "plt.suptitle('Total International Charge vs Customer Churn')\n",
        "plt.legend()\n",
        "plt.show()"
      ],
      "execution_count": 0,
      "outputs": [
        {
          "output_type": "display_data",
          "data": {
            "image/png": "[encoded data removed]",
            "text/plain": [
              "<Figure size 720x360 with 1 Axes>"
            ]
          },
          "metadata": {
            "tags": []
          }
        }
      ]
    },
    {
      "cell_type": "markdown",
      "metadata": {
        "id": "wwpMTEa6gsdc",
        "colab_type": "text"
      },
      "source": [
        "#Conclusion"
      ]
    },
    {
      "cell_type": "markdown",
      "metadata": {
        "id": "wAOExW2QQZWW",
        "colab_type": "text"
      },
      "source": [
        "* In this project, we build classification machine learning models in Python for customer churn prediction.\n",
        "* Four classification models are evaluated in terms of accuracy, precision and recall. \n",
        "* From business impact viewpoint, we choose recall as the most important metric. \n",
        "* The modeling and evaluation results show that Random Forest performs better than Logistic Regression and SVM in terms of recall.\n",
        "* Using this best model, we identify three important factors: Number of Email Messages, Total Day Calls, and Total International Charge.\n",
        "* Through data exploration and visualization, it is suggested that customers sending more email messages, giving more day calls and having higher international charge are more likely to churn.\n",
        "* Recommendations:\n",
        "   1.   It is very likely that customers who want to churn increase usage by sending more email messages and giving more day calls before the packages expired. Therefore, the company should frequently monitor customer usage data, especially on Number of Email Messages and Total Day Calls, and use the best model to identify who is likely to churn. Then the company can retain customers by giving customized packages.\n",
        "   2.   Customer churn is also positively correlated with Total International Charge. Thus, lowering the price when the customer is likely to churn is another way to retain customers and build customer relationship.\n"
      ]
    }
  ]
}